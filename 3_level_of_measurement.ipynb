{
 "cells": [
  {
   "cell_type": "markdown",
   "metadata": {},
   "source": [
    "**Introduction to Python**<br/>\n",
    "Prof. Dr. Jan Kirenz <br/>\n",
    "Hochschule der Medien Stuttgart"
   ]
  },
  {
   "cell_type": "markdown",
   "metadata": {
    "toc": true
   },
   "source": [
    "<h1>Table of Contents<span class=\"tocSkip\"></span></h1>\n",
    "<div class=\"toc\"><ul class=\"toc-item\"><li><span><a href=\"#Import-data\" data-toc-modified-id=\"Import-data-1\"><span class=\"toc-item-num\">1&nbsp;&nbsp;</span>Import data</a></span></li><li><span><a href=\"#Data-tidying\" data-toc-modified-id=\"Data-tidying-2\"><span class=\"toc-item-num\">2&nbsp;&nbsp;</span>Data tidying</a></span></li></ul></div>"
   ]
  },
  {
   "cell_type": "code",
   "execution_count": 1,
   "metadata": {},
   "outputs": [],
   "source": [
    "import pandas as pd"
   ]
  },
  {
   "cell_type": "markdown",
   "metadata": {},
   "source": [
    "To get more information about the Pandas syntax, download the [Pandas code cheat sheet](https://pandas.pydata.org/Pandas_Cheat_Sheet.pdf)"
   ]
  },
  {
   "cell_type": "markdown",
   "metadata": {},
   "source": [
    "### Import data"
   ]
  },
  {
   "cell_type": "code",
   "execution_count": 2,
   "metadata": {},
   "outputs": [],
   "source": [
    "# Import data from GitHub (or from your local computer)\n",
    "df = pd.read_csv(\"https://raw.githubusercontent.com/kirenz/datasets/master/wage.csv\")"
   ]
  },
  {
   "cell_type": "markdown",
   "metadata": {},
   "source": [
    "### Data tidying"
   ]
  },
  {
   "cell_type": "markdown",
   "metadata": {},
   "source": [
    "First of all we want to get an overview of the data"
   ]
  },
  {
   "cell_type": "code",
   "execution_count": 1,
   "metadata": {},
   "outputs": [],
   "source": [
    "# show the head (first few observations in the df)\n",
    "df.head(3)"
   ]
  },
  {
   "cell_type": "code",
   "execution_count": 4,
   "metadata": {},
   "outputs": [
    {
     "name": "stdout",
     "output_type": "stream",
     "text": [
      "<class 'pandas.core.frame.DataFrame'>\n",
      "RangeIndex: 3000 entries, 0 to 2999\n",
      "Data columns (total 12 columns):\n",
      "Unnamed: 0    3000 non-null int64\n",
      "year          3000 non-null int64\n",
      "age           3000 non-null int64\n",
      "maritl        3000 non-null object\n",
      "race          3000 non-null object\n",
      "education     3000 non-null object\n",
      "region        3000 non-null object\n",
      "jobclass      3000 non-null object\n",
      "health        3000 non-null object\n",
      "health_ins    3000 non-null object\n",
      "logwage       3000 non-null float64\n",
      "wage          3000 non-null float64\n",
      "dtypes: float64(2), int64(3), object(7)\n",
      "memory usage: 281.3+ KB\n"
     ]
    }
   ],
   "source": [
    "# show metadata (take a look at the level of measurement)\n",
    "df.info()"
   ]
  },
  {
   "cell_type": "markdown",
   "metadata": {},
   "source": [
    "---\n",
    "**Some notes on data types (level of measurement):** \n",
    "\n",
    "If we need to transform variables into a **numerical format**, we can transfrom the data with pd.to_numeric [see Pandas documenation](https://pandas.pydata.org/pandas-docs/stable/generated/pandas.to_numeric.html):\n",
    "\n",
    "If the data contains strings, we need to replace them with NaN (not a number). Otherwise we get an error message. Therefore, use errors='coerce' ... \n",
    "\n",
    "  * pandas.to_numeric(arg, errors='coerce', downcast=None)\n",
    "\n",
    "  * errors : {‘ignore’, ‘raise’, ‘coerce’}, default ‘raise’\n",
    "  * If ‘raise’, then invalid parsing will raise an exception\n",
    "  * If ‘coerce’, then invalid parsing will be set as NaN\n",
    "  * If ‘ignore’, then invalid parsing will return the input\n",
    "  \n",
    "To change data into **categorical** format, you can use the following codes:\n",
    "\n",
    "df['variable'] = pd.Categorical(df['variable'])\n",
    "\n",
    "If the data is ordinal, we use pandas [CategoricalDtype](https://pandas.pydata.org/pandas-docs/stable/categorical.html)\n",
    "\n",
    "---"
   ]
  },
  {
   "cell_type": "code",
   "execution_count": 4,
   "metadata": {
    "scrolled": true
   },
   "outputs": [
    {
     "data": {
      "text/plain": [
       "Index(['Unnamed: 0', 'year', 'age', 'maritl', 'race', 'education', 'region',\n",
       "       'jobclass', 'health', 'health_ins', 'logwage', 'wage'],\n",
       "      dtype='object')"
      ]
     },
     "execution_count": 4,
     "metadata": {},
     "output_type": "execute_result"
    }
   ],
   "source": [
    "# show all columns in the data\n",
    "df.columns"
   ]
  },
  {
   "cell_type": "code",
   "execution_count": 6,
   "metadata": {},
   "outputs": [],
   "source": [
    "# rename variable \"education\" to \"edu\"\n",
    "df = df.rename(columns={\"education\": \"edu\"})"
   ]
  },
  {
   "cell_type": "code",
   "execution_count": 9,
   "metadata": {},
   "outputs": [
    {
     "data": {
      "text/plain": [
       "2. HS Grad            971\n",
       "4. College Grad       685\n",
       "3. Some College       650\n",
       "5. Advanced Degree    426\n",
       "1. < HS Grad          268\n",
       "Name: edu, dtype: int64"
      ]
     },
     "execution_count": 9,
     "metadata": {},
     "output_type": "execute_result"
    }
   ],
   "source": [
    "# check levels and frequency of edu\n",
    "df['edu'].value_counts() "
   ]
  },
  {
   "cell_type": "markdown",
   "metadata": {},
   "source": [
    "Convert `edu` to ordinal variable with pandas [CategoricalDtype](https://pandas.pydata.org/pandas-docs/stable/categorical.html)"
   ]
  },
  {
   "cell_type": "code",
   "execution_count": null,
   "metadata": {},
   "outputs": [],
   "source": [
    "from pandas.api.types import CategoricalDtype"
   ]
  },
  {
   "cell_type": "code",
   "execution_count": 10,
   "metadata": {},
   "outputs": [],
   "source": [
    "# convert to ordinal variable\n",
    "cat_edu = CategoricalDtype(categories=\n",
    "                            ['1. < HS Grad', \n",
    "                             '2. HS Grad', \n",
    "                             '3. Some College', \n",
    "                             '4. College Grad', \n",
    "                             '5. Advanced Degree'],\n",
    "                            ordered=True)\n",
    "\n",
    "df.edu = df.edu.astype(cat_edu)"
   ]
  },
  {
   "cell_type": "markdown",
   "metadata": {},
   "source": [
    "Now convert `race ` to a categorical variable"
   ]
  },
  {
   "cell_type": "code",
   "execution_count": 15,
   "metadata": {},
   "outputs": [],
   "source": [
    "# convert to categorical variable \n",
    "df['race'] = pd.Categorical(df['race'])"
   ]
  },
  {
   "cell_type": "markdown",
   "metadata": {},
   "source": [
    "Take a look at the metadata (what happend to `edu` and `race`)?"
   ]
  },
  {
   "cell_type": "code",
   "execution_count": 12,
   "metadata": {},
   "outputs": [
    {
     "name": "stdout",
     "output_type": "stream",
     "text": [
      "<class 'pandas.core.frame.DataFrame'>\n",
      "RangeIndex: 3000 entries, 0 to 2999\n",
      "Data columns (total 12 columns):\n",
      "Unnamed: 0    3000 non-null int64\n",
      "year          3000 non-null int64\n",
      "age           3000 non-null int64\n",
      "maritl        3000 non-null object\n",
      "race          3000 non-null object\n",
      "edu           3000 non-null category\n",
      "region        3000 non-null object\n",
      "jobclass      3000 non-null object\n",
      "health        3000 non-null object\n",
      "health_ins    3000 non-null object\n",
      "logwage       3000 non-null float64\n",
      "wage          3000 non-null float64\n",
      "dtypes: category(1), float64(2), int64(3), object(6)\n",
      "memory usage: 261.0+ KB\n"
     ]
    }
   ],
   "source": [
    "df.info()"
   ]
  }
 ],
 "metadata": {
  "kernelspec": {
   "display_name": "Python 3",
   "language": "python",
   "name": "python3"
  },
  "language_info": {
   "codemirror_mode": {
    "name": "ipython",
    "version": 3
   },
   "file_extension": ".py",
   "mimetype": "text/x-python",
   "name": "python",
   "nbconvert_exporter": "python",
   "pygments_lexer": "ipython3",
   "version": "3.6.8"
  },
  "toc": {
   "base_numbering": 1,
   "nav_menu": {},
   "number_sections": true,
   "sideBar": true,
   "skip_h1_title": true,
   "title_cell": "Table of Contents",
   "title_sidebar": "Contents",
   "toc_cell": true,
   "toc_position": {},
   "toc_section_display": true,
   "toc_window_display": true
  },
  "varInspector": {
   "cols": {
    "lenName": 16,
    "lenType": 16,
    "lenVar": 40
   },
   "kernels_config": {
    "python": {
     "delete_cmd_postfix": "",
     "delete_cmd_prefix": "del ",
     "library": "var_list.py",
     "varRefreshCmd": "print(var_dic_list())"
    },
    "r": {
     "delete_cmd_postfix": ") ",
     "delete_cmd_prefix": "rm(",
     "library": "var_list.r",
     "varRefreshCmd": "cat(var_dic_list()) "
    }
   },
   "types_to_exclude": [
    "module",
    "function",
    "builtin_function_or_method",
    "instance",
    "_Feature"
   ],
   "window_display": false
  }
 },
 "nbformat": 4,
 "nbformat_minor": 2
}
